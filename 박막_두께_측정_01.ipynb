{
  "nbformat": 4,
  "nbformat_minor": 0,
  "metadata": {
    "colab": {
      "name": "박막 두께 측정.ipynb",
      "provenance": [],
      "collapsed_sections": [],
      "authorship_tag": "ABX9TyPph/T08vZvWwK0BE2aeTUV",
      "include_colab_link": true
    },
    "kernelspec": {
      "name": "python3",
      "display_name": "Python 3"
    },
    "accelerator": "GPU"
  },
  "cells": [
    {
      "cell_type": "markdown",
      "metadata": {
        "id": "view-in-github",
        "colab_type": "text"
      },
      "source": [
        "<a href=\"https://colab.research.google.com/github/silverstar0727/layer_thickness/blob/master/%EB%B0%95%EB%A7%89_%EB%91%90%EA%BB%98_%EC%B8%A1%EC%A0%95_01.ipynb\" target=\"_parent\"><img src=\"https://colab.research.google.com/assets/colab-badge.svg\" alt=\"Open In Colab\"/></a>"
      ]
    },
    {
      "cell_type": "code",
      "metadata": {
        "id": "_qAHDOUblhZ8",
        "colab_type": "code",
        "colab": {}
      },
      "source": [
        "# 필요한 라이브러리 import\n",
        "\n",
        "import numpy as np\n",
        "import pandas as pd\n",
        "\n",
        "# 시각화\n",
        "import matplotlib.pyplot as plt\n",
        "import seaborn as sns\n",
        "\n",
        "# 데이터 처리\n",
        "from tensorflow.keras.utils import plot_model\n",
        "from tensorflow.keras.models import Sequential\n",
        "from tensorflow.keras.layers import * # 일단 싹 다. 모델평가를 해야해서...\n",
        "from sklearn.model_selection import * # 너도 싹 다.\n",
        "import tensorflow.keras\n",
        "from keras.optimizers import Adam\n",
        "\n",
        "from datetime import datetime\n"
      ],
      "execution_count": 0,
      "outputs": []
    },
    {
      "cell_type": "code",
      "metadata": {
        "id": "1Ssenah2_tkV",
        "colab_type": "code",
        "colab": {}
      },
      "source": [
        "# Activation fucntion으로 gelu를 사용 gelu가 relu보다 효과가 좋음\n",
        "# Gaussian Error Linear Units\n",
        "from keras.utils.generic_utils import get_custom_objects\n",
        "import tensorflow as tf\n",
        "class activation_gelu(Activation):\n",
        "  def __init__(self, activation, **kwargs):\n",
        "    super(activation_gelu, self).__init__(activation, **kwargs)\n",
        "    self.__name__ = 'gelu'\n",
        "\n",
        "def func_gelu(K):\n",
        "  return 0.5 * K * (1 + tf.tanh(tf.sqrt(2 / np.pi) * (K + 0.044715 * tf.pow(x, 3))))\n",
        "\n",
        "get_custom_objects().update({'gelu': activation_gelu(func_gelu)})"
      ],
      "execution_count": 0,
      "outputs": []
    },
    {
      "cell_type": "code",
      "metadata": {
        "id": "9ELejgHamJ7K",
        "colab_type": "code",
        "colab": {
          "base_uri": "https://localhost:8080/",
          "height": 55
        },
        "outputId": "a2081ab7-9e93-4290-998f-a4524d12b103"
      },
      "source": [
        "# 구글 드라이브 연동\n",
        "from google.colab import drive\n",
        "drive.mount('/content/gdrive')"
      ],
      "execution_count": 27,
      "outputs": [
        {
          "output_type": "stream",
          "text": [
            "Drive already mounted at /content/gdrive; to attempt to forcibly remount, call drive.mount(\"/content/gdrive\", force_remount=True).\n"
          ],
          "name": "stdout"
        }
      ]
    },
    {
      "cell_type": "code",
      "metadata": {
        "id": "tyZU4dzomVWH",
        "colab_type": "code",
        "colab": {}
      },
      "source": [
        "# 데이터 불러오기\n",
        "train = pd.read_csv('/content/gdrive/My Drive/machine_learning/박막두께/train_set.csv')\n",
        "test = pd.read_csv('/content/gdrive/My Drive/machine_learning/박막두께/test_set.csv')\n",
        "sample_submission = pd.read_csv('/content/gdrive/My Drive/machine_learning/박막두께/sample_submission.csv')"
      ],
      "execution_count": 0,
      "outputs": []
    },
    {
      "cell_type": "code",
      "metadata": {
        "id": "cf1-NAiemhA5",
        "colab_type": "code",
        "colab": {
          "base_uri": "https://localhost:8080/",
          "height": 575
        },
        "outputId": "6e7a3aff-54ed-4cc9-cb06-1dcea3753caa"
      },
      "source": [
        "# 데이터 요약\n",
        "print(train.describe())\n",
        "print(test.describe())\n",
        "print(sample_submission.describe())"
      ],
      "execution_count": 29,
      "outputs": [
        {
          "output_type": "stream",
          "text": [
            "                  id        layer_1  ...            224            225\n",
            "count  170100.000000  170100.000000  ...  170100.000000  170100.000000\n",
            "mean    85049.500000     155.043269  ...       0.631455       0.633718\n",
            "std     49103.784732      86.527234  ...       0.195622       0.195101\n",
            "min         0.000000      10.000000  ...      -0.005321      -0.005659\n",
            "25%     42524.750000      80.000000  ...       0.508407       0.511000\n",
            "50%     85049.500000     160.000000  ...       0.677139       0.679399\n",
            "75%    127574.250000     230.000000  ...       0.787409       0.789263\n",
            "max    170099.000000     300.000000  ...       0.941404       0.943648\n",
            "\n",
            "[8 rows x 231 columns]\n",
            "                id             0  ...           224           225\n",
            "count  18900.00000  18900.000000  ...  18900.000000  18900.000000\n",
            "mean    9449.50000      0.297972  ...      0.632419      0.634869\n",
            "std     5456.10438      0.182991  ...      0.194512      0.194490\n",
            "min        0.00000     -0.013451  ...     -0.001584     -0.005085\n",
            "25%     4724.75000      0.138633  ...      0.514230      0.517084\n",
            "50%     9449.50000      0.292453  ...      0.677810      0.680802\n",
            "75%    14174.25000      0.443753  ...      0.786448      0.788634\n",
            "max    18899.00000      0.739840  ...      0.934890      0.939436\n",
            "\n",
            "[8 rows x 227 columns]\n",
            "                id  layer_1  layer_2  layer_3  layer_4\n",
            "count  18900.00000  18900.0  18900.0  18900.0  18900.0\n",
            "mean    9449.50000      0.0      0.0      0.0      0.0\n",
            "std     5456.10438      0.0      0.0      0.0      0.0\n",
            "min        0.00000      0.0      0.0      0.0      0.0\n",
            "25%     4724.75000      0.0      0.0      0.0      0.0\n",
            "50%     9449.50000      0.0      0.0      0.0      0.0\n",
            "75%    14174.25000      0.0      0.0      0.0      0.0\n",
            "max    18899.00000      0.0      0.0      0.0      0.0\n"
          ],
          "name": "stdout"
        }
      ]
    },
    {
      "cell_type": "code",
      "metadata": {
        "id": "VI7yaFm2po8Z",
        "colab_type": "code",
        "colab": {}
      },
      "source": [
        "# 슬라이싱을 통한 변수분리\n",
        "## 자료형은 pandas가 아닌 numpy\n",
        "train_X = np.array(train.iloc[:, 4:]) \n",
        "train_Y = np.array(train.iloc[:,0:4])\n",
        "test_X = np.array(test.iloc[:, 0:]) \n",
        "\n",
        "####################################### layer(예측 변수)는 총 3개"
      ],
      "execution_count": 0,
      "outputs": []
    },
    {
      "cell_type": "code",
      "metadata": {
        "id": "9ioBC9H9rKbo",
        "colab_type": "code",
        "colab": {}
      },
      "source": [
        "# 모델을 평가하기 위한 데이터분리 (비율은 10%)\n",
        "# random_state는 튜닝가능한 하이퍼 파라미터?\n",
        "\n",
        "# x_train, x_eval, y_train, y_eval = train_test_split(train_X, train_Y, test_size = 0.1, random_state = 52)"
      ],
      "execution_count": 0,
      "outputs": []
    },
    {
      "cell_type": "code",
      "metadata": {
        "id": "YdrX7_7UCxNA",
        "colab_type": "code",
        "colab": {}
      },
      "source": [
        "# Data prerrocessing"
      ],
      "execution_count": 0,
      "outputs": []
    },
    {
      "cell_type": "code",
      "metadata": {
        "id": "LurKnD7uCxLo",
        "colab_type": "code",
        "colab": {}
      },
      "source": [
        ""
      ],
      "execution_count": 0,
      "outputs": []
    },
    {
      "cell_type": "code",
      "metadata": {
        "id": "txW60PiuCxKT",
        "colab_type": "code",
        "colab": {}
      },
      "source": [
        ""
      ],
      "execution_count": 0,
      "outputs": []
    },
    {
      "cell_type": "code",
      "metadata": {
        "id": "xPfy8FNYCxGq",
        "colab_type": "code",
        "colab": {}
      },
      "source": [
        ""
      ],
      "execution_count": 0,
      "outputs": []
    },
    {
      "cell_type": "code",
      "metadata": {
        "id": "Q2szc-XJCxEo",
        "colab_type": "code",
        "colab": {}
      },
      "source": [
        ""
      ],
      "execution_count": 0,
      "outputs": []
    },
    {
      "cell_type": "code",
      "metadata": {
        "id": "zSg3FXSGrv2S",
        "colab_type": "code",
        "colab": {
          "base_uri": "https://localhost:8080/",
          "height": 136
        },
        "outputId": "877c9c95-8565-4d94-f0ed-33d29b9a2a9e"
      },
      "source": [
        "# 모델 생성 기존 모델 = multi layers perceptron\n",
        "#####model = Sequential() # 인스턴스 생성\n",
        "\n",
        "# units = 4096, 활성화 함수는 렐루함수 후에 바꿀필요 있음)\n",
        "#####model.add(Dense(units = 4096, activation = 'relu', input_dim = len(x_train[0])))\n",
        "#####model.add(Dropout(0.4)) # overfitting을 막기 위한 dropout (hyperparameter는 ratio of dropout = 0.4)\n",
        "\n",
        "# units = 2048, activation function = relu\n",
        "#####model.add(Dense(units=2048, activation='relu'))\n",
        "#####model.add(Dropout(0.3))\n",
        "\n",
        "# units = 1024, activation function = relu\n",
        "#####model.add(Dense(units=1024, activation='relu'))\n",
        "\n",
        "# 기존 마지막 레이의 활성화 함수 = linear\n",
        "#####model.add(Dense(units=4, activation='linear'))\n",
        "\n",
        "# 모델 요약\n",
        "#####model.summary()\n",
        "\n",
        "\n",
        "######################## \n",
        "# activation function을 GELU로 \n",
        "# bath normalization을 적용 - Gradient Vanishing, Gradient Exploding제거 가능하게 함\n",
        "# 마지막 단계를 softmax로\n",
        "# dropout method는 bath normalization과의 기능과 겹치므로 제거하였음\n",
        "# k-fold 적용\n",
        "\n",
        "# k-fold 교차검증\n",
        "n_fold = 10\n",
        "random_ = 1\n",
        "kfold = StratifiedKFold(n_splits = n_fold, random_state = random_).split(train_X, train_Y)\n",
        "\n",
        "for x, (train, test) in enumerate(kfold):\n",
        "  "
      ],
      "execution_count": 33,
      "outputs": [
        {
          "output_type": "error",
          "ename": "SyntaxError",
          "evalue": "ignored",
          "traceback": [
            "\u001b[0;36m  File \u001b[0;32m\"<ipython-input-33-f926e7a06017>\"\u001b[0;36m, line \u001b[0;32m27\u001b[0m\n\u001b[0;31m    model.add(dense(units = , activation = None))\u001b[0m\n\u001b[0m                            ^\u001b[0m\n\u001b[0;31mSyntaxError\u001b[0m\u001b[0;31m:\u001b[0m invalid syntax\n"
          ]
        }
      ]
    },
    {
      "cell_type": "code",
      "metadata": {
        "id": "ry2Eusp4tPe0",
        "colab_type": "code",
        "colab": {}
      },
      "source": [
        "model.compile(loss='mae', optimizer='adam', metrics=['mae'])"
      ],
      "execution_count": 0,
      "outputs": []
    },
    {
      "cell_type": "code",
      "metadata": {
        "id": "2KvdaxqFyRtM",
        "colab_type": "code",
        "colab": {}
      },
      "source": [
        "# nadam optimizer, \n",
        "# model.compile(loss = 'mae', optimizer = Adam(lr = lr, decay = lr_d))"
      ],
      "execution_count": 0,
      "outputs": []
    },
    {
      "cell_type": "code",
      "metadata": {
        "id": "zUM_NpHKmz8D",
        "colab_type": "code",
        "colab": {
          "base_uri": "https://localhost:8080/",
          "height": 35
        },
        "outputId": "8dfb3eeb-b32d-4393-c810-0845c592f754"
      },
      "source": [
        "!pip install -q git+https://github.com/tensorflow/docs"
      ],
      "execution_count": 13,
      "outputs": [
        {
          "output_type": "stream",
          "text": [
            "  Building wheel for tensorflow-docs (setup.py) ... \u001b[?25l\u001b[?25hdone\n"
          ],
          "name": "stdout"
        }
      ]
    },
    {
      "cell_type": "code",
      "metadata": {
        "id": "LZInrmmShK1H",
        "colab_type": "code",
        "colab": {
          "base_uri": "https://localhost:8080/",
          "height": 295
        },
        "outputId": "06032429-ba13-4363-a77d-73029a902486"
      },
      "source": [
        "epochs = range(1, len(history.history['mae']) + 1) \n",
        "plt.plot(epochs, history.history['loss']) \n",
        "plt.plot(epochs, history.history['val_loss']) \n",
        "plt.title('model loss') \n",
        "plt.ylabel('mae') \n",
        "plt.xlabel('epoch') \n",
        "plt.legend(['train', 'val'], loc='upper left') \n",
        "plt.show()"
      ],
      "execution_count": 14,
      "outputs": [
        {
          "output_type": "display_data",
          "data": {
            "image/png": "[encoded data removed]",
            "text/plain": [
              "<Figure size 432x288 with 1 Axes>"
            ]
          },
          "metadata": {
            "tags": [],
            "needs_background": "light"
          }
        }
      ]
    },
    {
      "cell_type": "code",
      "metadata": {
        "id": "4Ag3MGyVhK1K",
        "colab_type": "code",
        "colab": {
          "base_uri": "https://localhost:8080/",
          "height": 53
        },
        "outputId": "450c8c44-d828-4ff6-e3bf-9f28548fec5b"
      },
      "source": [
        "model.evaluate(x_eval, y_eval)"
      ],
      "execution_count": 16,
      "outputs": [
        {
          "output_type": "stream",
          "text": [
            "532/532 [==============================] - 1s 2ms/step - loss: 10704.8750 - mae: 10704.8750\n"
          ],
          "name": "stdout"
        },
        {
          "output_type": "execute_result",
          "data": {
            "text/plain": [
              "[10704.875, 10704.875]"
            ]
          },
          "metadata": {
            "tags": []
          },
          "execution_count": 16
        }
      ]
    },
    {
      "cell_type": "code",
      "metadata": {
        "id": "-6Kv8oMehK1N",
        "colab_type": "code",
        "colab": {
          "base_uri": "https://localhost:8080/",
          "height": 53
        },
        "outputId": "c2d242e0-8e40-436f-ac04-fce3430261fc"
      },
      "source": [
        "%%time\n",
        "pred = model.predict(x_eval)"
      ],
      "execution_count": 17,
      "outputs": [
        {
          "output_type": "stream",
          "text": [
            "CPU times: user 531 ms, sys: 52.8 ms, total: 583 ms\n",
            "Wall time: 460 ms\n"
          ],
          "name": "stdout"
        }
      ]
    },
    {
      "cell_type": "code",
      "metadata": {
        "id": "Xi2jccXShK1P",
        "colab_type": "code",
        "colab": {
          "base_uri": "https://localhost:8080/",
          "height": 215
        },
        "outputId": "e0c78186-620b-4847-f5c0-d5d01ecfae1d"
      },
      "source": [
        "# AI가 예측한 값\n",
        "pred[:10]"
      ],
      "execution_count": 18,
      "outputs": [
        {
          "output_type": "execute_result",
          "data": {
            "text/plain": [
              "array([[7.8169797e+04, 1.6135069e+02, 1.5231314e+02, 1.8799289e+02],\n",
              "       [7.7899383e+04, 1.8485432e+02, 1.7811221e+02, 2.1266714e+02],\n",
              "       [8.5985164e+04, 1.5230443e+02, 1.3846780e+02, 1.6887140e+02],\n",
              "       [8.7469828e+04, 2.0533307e+02, 1.7311502e+02, 5.9027306e+01],\n",
              "       [8.5742555e+04, 2.0248999e+02, 1.8095322e+02, 1.2984097e+02],\n",
              "       [8.0744188e+04, 2.1180627e+02, 1.7535202e+02, 2.1208438e+02],\n",
              "       [7.7474648e+04, 1.0892061e+02, 1.1946151e+02, 1.6254422e+02],\n",
              "       [7.8976820e+04, 1.7873103e+02, 1.5405576e+02, 5.7027885e+01],\n",
              "       [7.8339305e+04, 1.3371936e+02, 1.2898001e+02, 1.1893099e+02],\n",
              "       [7.8064680e+04, 1.5105237e+02, 1.3413882e+02, 1.3167288e+02]],\n",
              "      dtype=float32)"
            ]
          },
          "metadata": {
            "tags": []
          },
          "execution_count": 18
        }
      ]
    },
    {
      "cell_type": "code",
      "metadata": {
        "id": "f2mn_yTMhK1Q",
        "colab_type": "code",
        "colab": {
          "base_uri": "https://localhost:8080/",
          "height": 197
        },
        "outputId": "0b251e78-9f8a-4678-f4cb-35a4c544f798"
      },
      "source": [
        "# 실제 정답\n",
        "y_eval[:10]"
      ],
      "execution_count": 19,
      "outputs": [
        {
          "output_type": "execute_result",
          "data": {
            "text/plain": [
              "array([[ 31707,    210,    130,    160],\n",
              "       [114415,     60,    300,    210],\n",
              "       [162424,     60,    120,    240],\n",
              "       [132899,    300,    210,     10],\n",
              "       [ 88735,    220,    250,     60],\n",
              "       [ 78988,    180,     40,    300],\n",
              "       [100267,    270,     10,     90],\n",
              "       [  4991,    300,    100,     40],\n",
              "       [142319,    100,     20,    200],\n",
              "       [148424,    150,    230,     40]])"
            ]
          },
          "metadata": {
            "tags": []
          },
          "execution_count": 19
        }
      ]
    },
    {
      "cell_type": "code",
      "metadata": {
        "id": "lpMvXOOIhK1S",
        "colab_type": "code",
        "colab": {}
      },
      "source": [
        "# 정답이 없는 test data값을 이용하여 예측값을 생성.\n",
        "pred_test = model.predict(test_X)"
      ],
      "execution_count": 0,
      "outputs": []
    },
    {
      "cell_type": "code",
      "metadata": {
        "id": "2Nbv6q9AhK1U",
        "colab_type": "code",
        "colab": {}
      },
      "source": [
        "now = datetime.now() \n",
        "timestamp=now.strftime(\"%Y%m%d_%H%M\")"
      ],
      "execution_count": 0,
      "outputs": []
    },
    {
      "cell_type": "code",
      "metadata": {
        "id": "QT4LOnEehK1X",
        "colab_type": "code",
        "colab": {
          "base_uri": "https://localhost:8080/",
          "height": 448
        },
        "outputId": "56809209-b4bd-4688-88b3-dd4ab8a41b68"
      },
      "source": [
        "# 제출 파일을 만듦\n",
        "sample_sub = pd.read_csv('sample_submission.csv', index_col=0)\n",
        "submission = sample_sub+pred_test\n",
        "submission.to_csv(\"submission_\"+timestamp+\"_your_name.csv\")"
      ],
      "execution_count": 22,
      "outputs": [
        {
          "output_type": "error",
          "ename": "FileNotFoundError",
          "evalue": "ignored",
          "traceback": [
            "\u001b[0;31m---------------------------------------------------------------------------\u001b[0m",
            "\u001b[0;31mFileNotFoundError\u001b[0m                         Traceback (most recent call last)",
            "\u001b[0;32m<ipython-input-22-af6a0fc233cb>\u001b[0m in \u001b[0;36m<module>\u001b[0;34m()\u001b[0m\n\u001b[1;32m      1\u001b[0m \u001b[0;31m# 제출 파일을 만듦\u001b[0m\u001b[0;34m\u001b[0m\u001b[0;34m\u001b[0m\u001b[0;34m\u001b[0m\u001b[0m\n\u001b[0;32m----> 2\u001b[0;31m \u001b[0msample_sub\u001b[0m \u001b[0;34m=\u001b[0m \u001b[0mpd\u001b[0m\u001b[0;34m.\u001b[0m\u001b[0mread_csv\u001b[0m\u001b[0;34m(\u001b[0m\u001b[0;34m'sample_submission.csv'\u001b[0m\u001b[0;34m,\u001b[0m \u001b[0mindex_col\u001b[0m\u001b[0;34m=\u001b[0m\u001b[0;36m0\u001b[0m\u001b[0;34m)\u001b[0m\u001b[0;34m\u001b[0m\u001b[0;34m\u001b[0m\u001b[0m\n\u001b[0m\u001b[1;32m      3\u001b[0m \u001b[0msubmission\u001b[0m \u001b[0;34m=\u001b[0m \u001b[0msample_sub\u001b[0m\u001b[0;34m+\u001b[0m\u001b[0mpred_test\u001b[0m\u001b[0;34m\u001b[0m\u001b[0;34m\u001b[0m\u001b[0m\n\u001b[1;32m      4\u001b[0m \u001b[0msubmission\u001b[0m\u001b[0;34m.\u001b[0m\u001b[0mto_csv\u001b[0m\u001b[0;34m(\u001b[0m\u001b[0;34m\"submission_\"\u001b[0m\u001b[0;34m+\u001b[0m\u001b[0mtimestamp\u001b[0m\u001b[0;34m+\u001b[0m\u001b[0;34m\"_your_name.csv\"\u001b[0m\u001b[0;34m)\u001b[0m\u001b[0;34m\u001b[0m\u001b[0;34m\u001b[0m\u001b[0m\n",
            "\u001b[0;32m/usr/local/lib/python3.6/dist-packages/pandas/io/parsers.py\u001b[0m in \u001b[0;36mparser_f\u001b[0;34m(filepath_or_buffer, sep, delimiter, header, names, index_col, usecols, squeeze, prefix, mangle_dupe_cols, dtype, engine, converters, true_values, false_values, skipinitialspace, skiprows, skipfooter, nrows, na_values, keep_default_na, na_filter, verbose, skip_blank_lines, parse_dates, infer_datetime_format, keep_date_col, date_parser, dayfirst, cache_dates, iterator, chunksize, compression, thousands, decimal, lineterminator, quotechar, quoting, doublequote, escapechar, comment, encoding, dialect, error_bad_lines, warn_bad_lines, delim_whitespace, low_memory, memory_map, float_precision)\u001b[0m\n\u001b[1;32m    674\u001b[0m         )\n\u001b[1;32m    675\u001b[0m \u001b[0;34m\u001b[0m\u001b[0m\n\u001b[0;32m--> 676\u001b[0;31m         \u001b[0;32mreturn\u001b[0m \u001b[0m_read\u001b[0m\u001b[0;34m(\u001b[0m\u001b[0mfilepath_or_buffer\u001b[0m\u001b[0;34m,\u001b[0m \u001b[0mkwds\u001b[0m\u001b[0;34m)\u001b[0m\u001b[0;34m\u001b[0m\u001b[0;34m\u001b[0m\u001b[0m\n\u001b[0m\u001b[1;32m    677\u001b[0m \u001b[0;34m\u001b[0m\u001b[0m\n\u001b[1;32m    678\u001b[0m     \u001b[0mparser_f\u001b[0m\u001b[0;34m.\u001b[0m\u001b[0m__name__\u001b[0m \u001b[0;34m=\u001b[0m \u001b[0mname\u001b[0m\u001b[0;34m\u001b[0m\u001b[0;34m\u001b[0m\u001b[0m\n",
            "\u001b[0;32m/usr/local/lib/python3.6/dist-packages/pandas/io/parsers.py\u001b[0m in \u001b[0;36m_read\u001b[0;34m(filepath_or_buffer, kwds)\u001b[0m\n\u001b[1;32m    446\u001b[0m \u001b[0;34m\u001b[0m\u001b[0m\n\u001b[1;32m    447\u001b[0m     \u001b[0;31m# Create the parser.\u001b[0m\u001b[0;34m\u001b[0m\u001b[0;34m\u001b[0m\u001b[0;34m\u001b[0m\u001b[0m\n\u001b[0;32m--> 448\u001b[0;31m     \u001b[0mparser\u001b[0m \u001b[0;34m=\u001b[0m \u001b[0mTextFileReader\u001b[0m\u001b[0;34m(\u001b[0m\u001b[0mfp_or_buf\u001b[0m\u001b[0;34m,\u001b[0m \u001b[0;34m**\u001b[0m\u001b[0mkwds\u001b[0m\u001b[0;34m)\u001b[0m\u001b[0;34m\u001b[0m\u001b[0;34m\u001b[0m\u001b[0m\n\u001b[0m\u001b[1;32m    449\u001b[0m \u001b[0;34m\u001b[0m\u001b[0m\n\u001b[1;32m    450\u001b[0m     \u001b[0;32mif\u001b[0m \u001b[0mchunksize\u001b[0m \u001b[0;32mor\u001b[0m \u001b[0miterator\u001b[0m\u001b[0;34m:\u001b[0m\u001b[0;34m\u001b[0m\u001b[0;34m\u001b[0m\u001b[0m\n",
            "\u001b[0;32m/usr/local/lib/python3.6/dist-packages/pandas/io/parsers.py\u001b[0m in \u001b[0;36m__init__\u001b[0;34m(self, f, engine, **kwds)\u001b[0m\n\u001b[1;32m    878\u001b[0m             \u001b[0mself\u001b[0m\u001b[0;34m.\u001b[0m\u001b[0moptions\u001b[0m\u001b[0;34m[\u001b[0m\u001b[0;34m\"has_index_names\"\u001b[0m\u001b[0;34m]\u001b[0m \u001b[0;34m=\u001b[0m \u001b[0mkwds\u001b[0m\u001b[0;34m[\u001b[0m\u001b[0;34m\"has_index_names\"\u001b[0m\u001b[0;34m]\u001b[0m\u001b[0;34m\u001b[0m\u001b[0;34m\u001b[0m\u001b[0m\n\u001b[1;32m    879\u001b[0m \u001b[0;34m\u001b[0m\u001b[0m\n\u001b[0;32m--> 880\u001b[0;31m         \u001b[0mself\u001b[0m\u001b[0;34m.\u001b[0m\u001b[0m_make_engine\u001b[0m\u001b[0;34m(\u001b[0m\u001b[0mself\u001b[0m\u001b[0;34m.\u001b[0m\u001b[0mengine\u001b[0m\u001b[0;34m)\u001b[0m\u001b[0;34m\u001b[0m\u001b[0;34m\u001b[0m\u001b[0m\n\u001b[0m\u001b[1;32m    881\u001b[0m \u001b[0;34m\u001b[0m\u001b[0m\n\u001b[1;32m    882\u001b[0m     \u001b[0;32mdef\u001b[0m \u001b[0mclose\u001b[0m\u001b[0;34m(\u001b[0m\u001b[0mself\u001b[0m\u001b[0;34m)\u001b[0m\u001b[0;34m:\u001b[0m\u001b[0;34m\u001b[0m\u001b[0;34m\u001b[0m\u001b[0m\n",
            "\u001b[0;32m/usr/local/lib/python3.6/dist-packages/pandas/io/parsers.py\u001b[0m in \u001b[0;36m_make_engine\u001b[0;34m(self, engine)\u001b[0m\n\u001b[1;32m   1112\u001b[0m     \u001b[0;32mdef\u001b[0m \u001b[0m_make_engine\u001b[0m\u001b[0;34m(\u001b[0m\u001b[0mself\u001b[0m\u001b[0;34m,\u001b[0m \u001b[0mengine\u001b[0m\u001b[0;34m=\u001b[0m\u001b[0;34m\"c\"\u001b[0m\u001b[0;34m)\u001b[0m\u001b[0;34m:\u001b[0m\u001b[0;34m\u001b[0m\u001b[0;34m\u001b[0m\u001b[0m\n\u001b[1;32m   1113\u001b[0m         \u001b[0;32mif\u001b[0m \u001b[0mengine\u001b[0m \u001b[0;34m==\u001b[0m \u001b[0;34m\"c\"\u001b[0m\u001b[0;34m:\u001b[0m\u001b[0;34m\u001b[0m\u001b[0;34m\u001b[0m\u001b[0m\n\u001b[0;32m-> 1114\u001b[0;31m             \u001b[0mself\u001b[0m\u001b[0;34m.\u001b[0m\u001b[0m_engine\u001b[0m \u001b[0;34m=\u001b[0m \u001b[0mCParserWrapper\u001b[0m\u001b[0;34m(\u001b[0m\u001b[0mself\u001b[0m\u001b[0;34m.\u001b[0m\u001b[0mf\u001b[0m\u001b[0;34m,\u001b[0m \u001b[0;34m**\u001b[0m\u001b[0mself\u001b[0m\u001b[0;34m.\u001b[0m\u001b[0moptions\u001b[0m\u001b[0;34m)\u001b[0m\u001b[0;34m\u001b[0m\u001b[0;34m\u001b[0m\u001b[0m\n\u001b[0m\u001b[1;32m   1115\u001b[0m         \u001b[0;32melse\u001b[0m\u001b[0;34m:\u001b[0m\u001b[0;34m\u001b[0m\u001b[0;34m\u001b[0m\u001b[0m\n\u001b[1;32m   1116\u001b[0m             \u001b[0;32mif\u001b[0m \u001b[0mengine\u001b[0m \u001b[0;34m==\u001b[0m \u001b[0;34m\"python\"\u001b[0m\u001b[0;34m:\u001b[0m\u001b[0;34m\u001b[0m\u001b[0;34m\u001b[0m\u001b[0m\n",
            "\u001b[0;32m/usr/local/lib/python3.6/dist-packages/pandas/io/parsers.py\u001b[0m in \u001b[0;36m__init__\u001b[0;34m(self, src, **kwds)\u001b[0m\n\u001b[1;32m   1889\u001b[0m         \u001b[0mkwds\u001b[0m\u001b[0;34m[\u001b[0m\u001b[0;34m\"usecols\"\u001b[0m\u001b[0;34m]\u001b[0m \u001b[0;34m=\u001b[0m \u001b[0mself\u001b[0m\u001b[0;34m.\u001b[0m\u001b[0musecols\u001b[0m\u001b[0;34m\u001b[0m\u001b[0;34m\u001b[0m\u001b[0m\n\u001b[1;32m   1890\u001b[0m \u001b[0;34m\u001b[0m\u001b[0m\n\u001b[0;32m-> 1891\u001b[0;31m         \u001b[0mself\u001b[0m\u001b[0;34m.\u001b[0m\u001b[0m_reader\u001b[0m \u001b[0;34m=\u001b[0m \u001b[0mparsers\u001b[0m\u001b[0;34m.\u001b[0m\u001b[0mTextReader\u001b[0m\u001b[0;34m(\u001b[0m\u001b[0msrc\u001b[0m\u001b[0;34m,\u001b[0m \u001b[0;34m**\u001b[0m\u001b[0mkwds\u001b[0m\u001b[0;34m)\u001b[0m\u001b[0;34m\u001b[0m\u001b[0;34m\u001b[0m\u001b[0m\n\u001b[0m\u001b[1;32m   1892\u001b[0m         \u001b[0mself\u001b[0m\u001b[0;34m.\u001b[0m\u001b[0munnamed_cols\u001b[0m \u001b[0;34m=\u001b[0m \u001b[0mself\u001b[0m\u001b[0;34m.\u001b[0m\u001b[0m_reader\u001b[0m\u001b[0;34m.\u001b[0m\u001b[0munnamed_cols\u001b[0m\u001b[0;34m\u001b[0m\u001b[0;34m\u001b[0m\u001b[0m\n\u001b[1;32m   1893\u001b[0m \u001b[0;34m\u001b[0m\u001b[0m\n",
            "\u001b[0;32mpandas/_libs/parsers.pyx\u001b[0m in \u001b[0;36mpandas._libs.parsers.TextReader.__cinit__\u001b[0;34m()\u001b[0m\n",
            "\u001b[0;32mpandas/_libs/parsers.pyx\u001b[0m in \u001b[0;36mpandas._libs.parsers.TextReader._setup_parser_source\u001b[0;34m()\u001b[0m\n",
            "\u001b[0;31mFileNotFoundError\u001b[0m: [Errno 2] File sample_submission.csv does not exist: 'sample_submission.csv'"
          ]
        }
      ]
    }
  ]
}